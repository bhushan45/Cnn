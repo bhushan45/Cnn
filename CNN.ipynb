{
 "cells": [
  {
   "cell_type": "code",
   "execution_count": 1,
   "metadata": {},
   "outputs": [
    {
     "name": "stderr",
     "output_type": "stream",
     "text": [
      "Using TensorFlow backend.\n"
     ]
    }
   ],
   "source": [
    "# Importing the Keras libraries and packages\n",
    "from keras.models import Sequential\n",
    "from keras.layers import Conv2D\n",
    "from keras.layers import MaxPooling2D\n",
    "from keras.layers import Flatten\n",
    "from keras.layers import Dense\n"
   ]
  },
  {
   "cell_type": "code",
   "execution_count": 2,
   "metadata": {
    "collapsed": true
   },
   "outputs": [],
   "source": [
    "# Initialising the CNN\n",
    "classifier = Sequential()"
   ]
  },
  {
   "cell_type": "code",
   "execution_count": 3,
   "metadata": {
    "collapsed": true
   },
   "outputs": [],
   "source": [
    "#  Convolution\n",
    "classifier.add(Conv2D(32, (3, 3), input_shape = (64, 64, 3), activation = 'relu'))"
   ]
  },
  {
   "cell_type": "code",
   "execution_count": 4,
   "metadata": {
    "collapsed": true
   },
   "outputs": [],
   "source": [
    "# Pooling\n",
    "classifier.add(MaxPooling2D(pool_size = (2, 2)))\n"
   ]
  },
  {
   "cell_type": "code",
   "execution_count": 5,
   "metadata": {
    "collapsed": true
   },
   "outputs": [],
   "source": [
    "# Adding a second convolutional layer\n",
    "classifier.add(Conv2D(32, (3, 3), activation = 'relu'))\n",
    "classifier.add(MaxPooling2D(pool_size = (2, 2)))\n"
   ]
  },
  {
   "cell_type": "code",
   "execution_count": 6,
   "metadata": {
    "collapsed": true
   },
   "outputs": [],
   "source": [
    "# Flattening\n",
    "classifier.add(Flatten())"
   ]
  },
  {
   "cell_type": "code",
   "execution_count": 7,
   "metadata": {
    "collapsed": true
   },
   "outputs": [],
   "source": [
    "# Full connection\n",
    "classifier.add(Dense(units = 128, activation = 'relu'))\n",
    "classifier.add(Dense(units = 1, activation = 'sigmoid'))"
   ]
  },
  {
   "cell_type": "code",
   "execution_count": 8,
   "metadata": {
    "collapsed": true
   },
   "outputs": [],
   "source": [
    "# Compiling the CNN\n",
    "classifier.compile(optimizer = 'adam', loss = 'binary_crossentropy', metrics = ['accuracy'])"
   ]
  },
  {
   "cell_type": "code",
   "execution_count": 9,
   "metadata": {},
   "outputs": [
    {
     "name": "stdout",
     "output_type": "stream",
     "text": [
      "Found 8000 images belonging to 2 classes.\n",
      "Found 2000 images belonging to 2 classes.\n",
      "Epoch 1/25\n",
      "8000/8000 [==============================] - 2888s - loss: 0.3686 - acc: 0.8274 - val_loss: 0.5752 - val_acc: 0.8064\n",
      "Epoch 2/25\n",
      "8000/8000 [==============================] - 2719s - loss: 0.1267 - acc: 0.9513 - val_loss: 0.7438 - val_acc: 0.8233\n",
      "Epoch 3/25\n",
      "8000/8000 [==============================] - 2683s - loss: 0.0678 - acc: 0.9754 - val_loss: 0.8741 - val_acc: 0.8266\n",
      "Epoch 4/25\n",
      "8000/8000 [==============================] - 2644s - loss: 0.0484 - acc: 0.9832 - val_loss: 0.9689 - val_acc: 0.8131\n",
      "Epoch 5/25\n",
      "8000/8000 [==============================] - 2649s - loss: 0.0401 - acc: 0.9861 - val_loss: 0.9960 - val_acc: 0.8139\n",
      "Epoch 6/25\n",
      "8000/8000 [==============================] - 2660s - loss: 0.0354 - acc: 0.9878 - val_loss: 1.0460 - val_acc: 0.8179\n",
      "Epoch 7/25\n",
      "8000/8000 [==============================] - 2668s - loss: 0.0298 - acc: 0.9898 - val_loss: 1.1234 - val_acc: 0.8219\n",
      "Epoch 8/25\n",
      "8000/8000 [==============================] - 2668s - loss: 0.0269 - acc: 0.9909 - val_loss: 1.2235 - val_acc: 0.8193\n",
      "Epoch 9/25\n",
      "8000/8000 [==============================] - 2678s - loss: 0.0239 - acc: 0.9921 - val_loss: 1.0918 - val_acc: 0.8219\n",
      "Epoch 10/25\n",
      "8000/8000 [==============================] - 15962s - loss: 0.0231 - acc: 0.9925 - val_loss: 1.1164 - val_acc: 0.8128\n",
      "Epoch 11/25\n",
      "8000/8000 [==============================] - 2684s - loss: 0.0202 - acc: 0.9934 - val_loss: 1.1582 - val_acc: 0.8257\n",
      "Epoch 12/25\n",
      "8000/8000 [==============================] - 2689s - loss: 0.0190 - acc: 0.9936 - val_loss: 1.2276 - val_acc: 0.8174\n",
      "Epoch 13/25\n",
      "8000/8000 [==============================] - 2738s - loss: 0.0177 - acc: 0.9943 - val_loss: 1.2358 - val_acc: 0.8255\n",
      "Epoch 14/25\n",
      "8000/8000 [==============================] - 2722s - loss: 0.0162 - acc: 0.9947 - val_loss: 1.3381 - val_acc: 0.8086\n",
      "Epoch 15/25\n",
      "8000/8000 [==============================] - 2727s - loss: 0.0163 - acc: 0.9949 - val_loss: 1.3080 - val_acc: 0.8138\n",
      "Epoch 16/25\n",
      "8000/8000 [==============================] - 2711s - loss: 0.0142 - acc: 0.9953 - val_loss: 1.3518 - val_acc: 0.8182\n",
      "Epoch 17/25\n",
      "8000/8000 [==============================] - 2721s - loss: 0.0146 - acc: 0.9955 - val_loss: 1.3741 - val_acc: 0.8194\n",
      "Epoch 18/25\n",
      "8000/8000 [==============================] - 2721s - loss: 0.0140 - acc: 0.9957 - val_loss: 1.2761 - val_acc: 0.8208\n",
      "Epoch 19/25\n",
      "8000/8000 [==============================] - 2720s - loss: 0.0129 - acc: 0.9960 - val_loss: 1.3847 - val_acc: 0.8208\n",
      "Epoch 20/25\n",
      "8000/8000 [==============================] - 2725s - loss: 0.0128 - acc: 0.9960 - val_loss: 1.3967 - val_acc: 0.8244\n",
      "Epoch 21/25\n",
      "8000/8000 [==============================] - 2724s - loss: 0.0124 - acc: 0.9961 - val_loss: 1.4465 - val_acc: 0.8171\n",
      "Epoch 22/25\n",
      "8000/8000 [==============================] - 2736s - loss: 0.0118 - acc: 0.9963 - val_loss: 1.4138 - val_acc: 0.8116\n",
      "Epoch 23/25\n",
      "8000/8000 [==============================] - 2741s - loss: 0.0118 - acc: 0.9962 - val_loss: 1.4728 - val_acc: 0.8181\n",
      "Epoch 24/25\n",
      "8000/8000 [==============================] - 2742s - loss: 0.0117 - acc: 0.9963 - val_loss: 1.5265 - val_acc: 0.8147\n",
      "Epoch 25/25\n",
      "8000/8000 [==============================] - 2759s - loss: 0.0108 - acc: 0.9966 - val_loss: 1.3814 - val_acc: 0.8092\n"
     ]
    },
    {
     "data": {
      "text/plain": [
       "<keras.callbacks.History at 0x1d72a1bc160>"
      ]
     },
     "execution_count": 9,
     "metadata": {},
     "output_type": "execute_result"
    }
   ],
   "source": [
    "# Fitting the CNN to the images\n",
    "\n",
    "from keras.preprocessing.image import ImageDataGenerator\n",
    "\n",
    "train_datagen = ImageDataGenerator(rescale = 1./255,\n",
    "                                   shear_range = 0.2,\n",
    "                                   zoom_range = 0.2,\n",
    "                                   horizontal_flip = True)\n",
    "\n",
    "test_datagen = ImageDataGenerator(rescale = 1./255)\n",
    "\n",
    "training_set = train_datagen.flow_from_directory('C:\\\\Users\\\\Bhushan\\\\Desktop\\\\Deep_Learning_A_Z\\\\Volume 1 - Supervised Deep Learning\\\\Part 2 - Convolutional Neural Networks (CNN)\\\\Section 6 - Part 2 - CNN\\\\Convolutional_Neural_Networks\\\\dataset\\\\training_set',\n",
    "                                                 target_size = (64, 64),\n",
    "                                                 batch_size = 32,\n",
    "                                                 class_mode = 'binary')\n",
    "\n",
    "test_set = test_datagen.flow_from_directory('C:\\\\Users\\\\Bhushan\\\\Desktop\\\\Deep_Learning_A_Z\\\\Volume 1 - Supervised Deep Learning\\\\Part 2 - Convolutional Neural Networks (CNN)\\\\Section 6 - Part 2 - CNN\\\\Convolutional_Neural_Networks\\\\dataset\\\\test_set',\n",
    "                                            target_size = (64, 64),\n",
    "                                            batch_size = 32,\n",
    "                                            class_mode = 'binary')\n",
    "\n",
    "classifier.fit_generator(training_set,\n",
    "                         steps_per_epoch = 8000,\n",
    "                         epochs = 25,\n",
    "                         validation_data = test_set,\n",
    "                         validation_steps = 2000)"
   ]
  },
  {
   "cell_type": "code",
   "execution_count": 10,
   "metadata": {
    "collapsed": true
   },
   "outputs": [],
   "source": [
    "import numpy as np\n",
    "from keras.preprocessing import image\n",
    "test_image = image.load_img('C:\\\\Users\\\\Bhushan\\\\Desktop\\\\Deep_Learning_A_Z\\\\Volume 1 - Supervised Deep Learning\\\\Part 2 - Convolutional Neural Networks (CNN)\\\\Section 6 - Part 2 - CNN\\\\Convolutional_Neural_Networks\\\\dataset\\\\single_prediction\\\\cat_or_dog_1.jpg', target_size = (64, 64))\n",
    "test_image = image.img_to_array(test_image)\n",
    "test_image = np.expand_dims(test_image, axis = 0)\n",
    "result = classifier.predict(test_image)\n",
    "training_set.class_indices\n",
    "if result[0][0] == 1:\n",
    "    prediction = 'dog'\n",
    "else:\n",
    "    prediction = 'cat'"
   ]
  },
  {
   "cell_type": "code",
   "execution_count": 11,
   "metadata": {},
   "outputs": [
    {
     "data": {
      "text/plain": [
       "'dog'"
      ]
     },
     "execution_count": 11,
     "metadata": {},
     "output_type": "execute_result"
    }
   ],
   "source": [
    "prediction"
   ]
  },
  {
   "cell_type": "code",
   "execution_count": 12,
   "metadata": {
    "collapsed": true
   },
   "outputs": [],
   "source": [
    "import numpy as np\n",
    "from keras.preprocessing import image\n",
    "test_image = image.load_img('C:\\\\Users\\\\Bhushan\\\\Desktop\\\\Deep_Learning_A_Z\\\\Volume 1 - Supervised Deep Learning\\\\Part 2 - Convolutional Neural Networks (CNN)\\\\Section 6 - Part 2 - CNN\\\\Convolutional_Neural_Networks\\\\dataset\\\\single_prediction\\\\cat_or_dog_2.jpg', target_size = (64, 64))\n",
    "test_image = image.img_to_array(test_image)\n",
    "test_image = np.expand_dims(test_image, axis = 0)\n",
    "result = classifier.predict(test_image)\n",
    "training_set.class_indices\n",
    "if result[0][0] == 1:\n",
    "    prediction = 'dog'\n",
    "else:\n",
    "    prediction = 'cat'"
   ]
  },
  {
   "cell_type": "code",
   "execution_count": 13,
   "metadata": {},
   "outputs": [
    {
     "data": {
      "text/plain": [
       "'cat'"
      ]
     },
     "execution_count": 13,
     "metadata": {},
     "output_type": "execute_result"
    }
   ],
   "source": [
    "prediction"
   ]
  },
  {
   "cell_type": "code",
   "execution_count": null,
   "metadata": {
    "collapsed": true
   },
   "outputs": [],
   "source": []
  }
 ],
 "metadata": {
  "kernelspec": {
   "display_name": "Python 3",
   "language": "python",
   "name": "python3"
  },
  "language_info": {
   "codemirror_mode": {
    "name": "ipython",
    "version": 3
   },
   "file_extension": ".py",
   "mimetype": "text/x-python",
   "name": "python",
   "nbconvert_exporter": "python",
   "pygments_lexer": "ipython3",
   "version": "3.5.4"
  }
 },
 "nbformat": 4,
 "nbformat_minor": 2
}
